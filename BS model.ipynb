{
 "cells": [
  {
   "cell_type": "code",
   "execution_count": 5,
   "id": "d2da7071-202c-4b3d-8f03-0b95acd360e5",
   "metadata": {},
   "outputs": [],
   "source": [
    "# 10 dimensions\n",
    "# Set the random seed to 5 to ensure repeatable results.\n",
    "# Define the number of assets (num) to be 10 and the base stock price (S) to be 100.\n",
    "# 4. Generate initial stock price (S0):\n",
    "# Use np.random.uniform(95,105,[10,1]) to generate 10 random numbers uniformly distributed between 95 and 105.\n",
    "# This represents the initial prices of the 10 stocks, all fluctuating around 100.\n",
    "# 5. Generate initial weight (w):\n",
    "# First generate 10 random numbers between 0 and 1 (w0).\n",
    "# Then standardize these numbers so that their sum is 1 to get the final weight w.\n",
    "# Create a pandas DataFrame containing the initial stock price (S0) and the corresponding weight (w).\n",
    "# Finally, save this DataFrame as an Excel file named \"BS_S0_w.xlsx\" in the \"./BS_data/\" directory.\n",
    "# The main purpose of this code is to generate initial data for a possible subsequent financial model or analysis (probably the Black-Scholes model, \n",
    "# since there is \"BS\" in the file name). It creates a portfolio of 10 stocks, each with an initial price close to 100 and a randomly assigned weight. \n",
    "# This data can be used for financial analysis tasks such as simulating stock price changes and calculating portfolio value.\n",
    "\n",
    "import numpy as np\n",
    "import pandas as pd\n",
    "\n",
    "np.random.seed(5)\n",
    "# Number of assets\n",
    "num = 10 ; S = 100\n",
    "S0 = np.random.uniform(95,105,[10,1])\n",
    "w0 = np.random.uniform(0,1,[10,1])\n",
    "w = w0/sum(w0)\n",
    "data = pd.DataFrame(S0,columns=['S0'])\n",
    "data['w'] = w\n",
    "data.to_excel('./BS_data/BS_S0_w.xlsx')"
   ]
  },
  {
   "cell_type": "code",
   "execution_count": 6,
   "id": "9ca375d4-e9a2-4206-b50e-6d5a89055a80",
   "metadata": {},
   "outputs": [],
   "source": [
    "# Simulation\n",
    "import numpy as np\n",
    "import pandas as pd\n",
    "import random as rd\n",
    "\n",
    "class blackscholes:\n",
    "    # Implement Black-Scholes model:\n",
    "    # Define a blackscholes class to implement the calculation of the B-S formula\n",
    "    # Use this class to calculate the option prices of 10 stocks\n",
    "    # Calculate the weighted average option price based on the weight\n",
    "\n",
    "    # Calculates Probability of D1 & D2 using simpsons integration\n",
    "    # Will be used in the option pricing formula\n",
    "    def N(self, x, n=1000):\n",
    "        # Cumulative distribution function\n",
    "        s = lambda n: [1 if i == 0 or i == n - 1 else 2 if i % 2 == 0 else 4 for i in range(n)]\n",
    "        f = lambda x: np.exp(-x**2/2.0)/np.sqrt(2.0*np.pi)\n",
    "        a = round(x - 11, 0)\n",
    "        dx = (x - a) / (n - 1)\n",
    "        Total = np.sum([c*f(a + i * dx) for i, c in enumerate(s(n))])\n",
    "        return round(dx/3.0 * Total, 4)\n",
    "\n",
    "    # Solves for D1 & D2\n",
    "    def d(self, S, K, r, q, v, t):\n",
    "        # from option pricing formula, calculate the values ​​of d1 and d2\n",
    "        neu = np.log(S/K) + (r - q + 0.5*v**2/2.0)*t\n",
    "        den = v*np.sqrt(t)\n",
    "        return neu / den, neu / den - den\n",
    "\n",
    "    # Solves for a call or put option price\n",
    "    def BS(self, S, K, r, q, v, tau, op):\n",
    "        d1, d2 = self.d(S, K, r, q, v, tau)\n",
    "        if op == \"call\":\n",
    "            #Call and put option formula to calculate option value\n",
    "            return S * np.exp(-q*tau) * self.N(d1) - K * np.exp(-r*tau) * self.N(d2)\n",
    "        else:\n",
    "            return K * np.exp(-r*tau) * self.N(-d2) - S * np.exp(-q*tau) * self.N(-d1)\n",
    "     # Creates a pandas frame with your dataset containing Black Scholes input variables\n",
    "bs = blackscholes()"
   ]
  },
  {
   "cell_type": "code",
   "execution_count": 7,
   "id": "14c1379d-1366-46de-8aa2-0c7b71b10e25",
   "metadata": {},
   "outputs": [
    {
     "data": {
      "text/plain": [
       "1.7570374674616598"
      ]
     },
     "execution_count": 7,
     "metadata": {},
     "output_type": "execute_result"
    }
   ],
   "source": [
    "S0_w = pd.read_excel('./BS_data/BS_S0_w.xlsx')\n",
    "S0 = S0_w.S0\n",
    "# w = S0_w.w\n",
    "w = [0.1]*10\n",
    "c = np.zeros([10,])\n",
    "for i in range(len(S0)):\n",
    "    c[i] = bs.BS(S0[i],100,0.03,0,0.1,20/240,'call')   # Analytical solution\n",
    "c_final = np.dot(c,w)\n",
    "c_final\n",
    "# np.mean(c)\n",
    "# w.shape"
   ]
  }
 ],
 "metadata": {
  "kernelspec": {
   "display_name": "Python 3 (ipykernel)",
   "language": "python",
   "name": "python3"
  },
  "language_info": {
   "codemirror_mode": {
    "name": "ipython",
    "version": 3
   },
   "file_extension": ".py",
   "mimetype": "text/x-python",
   "name": "python",
   "nbconvert_exporter": "python",
   "pygments_lexer": "ipython3",
   "version": "3.12.4"
  }
 },
 "nbformat": 4,
 "nbformat_minor": 5
}
